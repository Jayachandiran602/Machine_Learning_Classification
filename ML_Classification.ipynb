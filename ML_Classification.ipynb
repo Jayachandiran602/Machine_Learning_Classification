{
 "cells": [
  {
   "cell_type": "code",
   "execution_count": 1,
   "id": "c01930bd",
   "metadata": {},
   "outputs": [],
   "source": [
    "import pandas as pd\n",
    "from sklearn.neural_network import MLPRegressor\n",
    "from sklearn.metrics import confusion_matrix\n",
    "from sklearn.metrics import classification_report\n",
    "from sklearn.metrics import accuracy_score\n",
    "import matplotlib.pyplot as plt"
   ]
  },
  {
   "cell_type": "code",
   "execution_count": 2,
   "id": "893e0e98",
   "metadata": {},
   "outputs": [
    {
     "data": {
      "text/html": [
       "<div>\n",
       "<style scoped>\n",
       "    .dataframe tbody tr th:only-of-type {\n",
       "        vertical-align: middle;\n",
       "    }\n",
       "\n",
       "    .dataframe tbody tr th {\n",
       "        vertical-align: top;\n",
       "    }\n",
       "\n",
       "    .dataframe thead th {\n",
       "        text-align: right;\n",
       "    }\n",
       "</style>\n",
       "<table border=\"1\" class=\"dataframe\">\n",
       "  <thead>\n",
       "    <tr style=\"text-align: right;\">\n",
       "      <th></th>\n",
       "      <th>x1</th>\n",
       "      <th>x2</th>\n",
       "      <th>y</th>\n",
       "    </tr>\n",
       "  </thead>\n",
       "  <tbody>\n",
       "    <tr>\n",
       "      <th>0</th>\n",
       "      <td>0.996321</td>\n",
       "      <td>2.901429</td>\n",
       "      <td>-61.310885</td>\n",
       "    </tr>\n",
       "    <tr>\n",
       "      <th>1</th>\n",
       "      <td>3.855952</td>\n",
       "      <td>2.197317</td>\n",
       "      <td>64.918210</td>\n",
       "    </tr>\n",
       "    <tr>\n",
       "      <th>2</th>\n",
       "      <td>-0.751851</td>\n",
       "      <td>1.311989</td>\n",
       "      <td>64.317646</td>\n",
       "    </tr>\n",
       "    <tr>\n",
       "      <th>3</th>\n",
       "      <td>-1.535331</td>\n",
       "      <td>2.732352</td>\n",
       "      <td>53.659943</td>\n",
       "    </tr>\n",
       "    <tr>\n",
       "      <th>4</th>\n",
       "      <td>2.808920</td>\n",
       "      <td>2.416145</td>\n",
       "      <td>120.558418</td>\n",
       "    </tr>\n",
       "  </tbody>\n",
       "</table>\n",
       "</div>"
      ],
      "text/plain": [
       "         x1        x2           y\n",
       "0  0.996321  2.901429  -61.310885\n",
       "1  3.855952  2.197317   64.918210\n",
       "2 -0.751851  1.311989   64.317646\n",
       "3 -1.535331  2.732352   53.659943\n",
       "4  2.808920  2.416145  120.558418"
      ]
     },
     "execution_count": 2,
     "metadata": {},
     "output_type": "execute_result"
    }
   ],
   "source": [
    "df=pd.read_csv('task2(1).csv')\n",
    "df.head()"
   ]
  },
  {
   "cell_type": "code",
   "execution_count": 39,
   "id": "f02f45fc",
   "metadata": {},
   "outputs": [],
   "source": [
    "x = df.iloc[:,0:2]\n",
    "y = df.iloc[:,2]\n",
    "\n",
    "from sklearn.model_selection import train_test_split\n",
    "\n",
    "x_train, x_test, y_train, y_test = train_test_split(x,y,test_size=0.30,random_state=42)"
   ]
  },
  {
   "cell_type": "code",
   "execution_count": 42,
   "id": "16d1803a",
   "metadata": {},
   "outputs": [],
   "source": [
    "from sklearn.preprocessing import StandardScaler\n",
    "from sklearn.metrics import r2_score\n",
    "from sklearn.metrics import mean_squared_error\n",
    "\n",
    "def predict_class_labels(classifier,x_train,y_train,x_test):\n",
    "    scaler = StandardScaler()\n",
    "    scaler.fit(x_train)\n",
    "    x_train_scaled = scaler.transform(x_train)\n",
    "    x_test_scaled = scaler.transform(x_test)\n",
    "    \n",
    "    model = classifier.fit(x_train_scaled, y_train)\n",
    "    y_pred = model.predict(x_test_scaled)\n",
    "    \n",
    "    return y_pred\n",
    "\n",
    "def display_model_results_brief(title,classifier,x_train,y_train,x_test,y_test):\n",
    "    print(title + ' . Brief results')\n",
    "    \n",
    "    y_pred = predict_class_labels(classifier,x_train,y_train,x_test)\n",
    "    \n",
    "    print('R2 score: {}'.format(r2_score(y_test,y_pred)))\n",
    "    print('Mean Squared Error:{}'.format(mean_squared_error(y_test,y_pred)))\n",
    "    print('\\n')"
   ]
  },
  {
   "cell_type": "code",
   "execution_count": 43,
   "id": "83e1968f",
   "metadata": {},
   "outputs": [
    {
     "name": "stdout",
     "output_type": "stream",
     "text": [
      " . Brief results\n",
      "R2 score: 0.8528029863543961\n",
      "Mean Squared Error:661.9258940370651\n",
      "\n",
      "\n"
     ]
    }
   ],
   "source": [
    "display_model_results_brief(\"\", MLPRegressor(max_iter=10000,learning_rate='constant', learning_rate_init=0.01, random_state=42),x_train, y_train,x_test, y_test)"
   ]
  },
  {
   "cell_type": "code",
   "execution_count": 78,
   "id": "72de8e75",
   "metadata": {},
   "outputs": [
    {
     "data": {
      "image/png": "[encoded data removed]",
      "text/plain": [
       "<Figure size 640x480 with 1 Axes>"
      ]
     },
     "metadata": {},
     "output_type": "display_data"
    },
    {
     "data": {
      "text/plain": [
       "[(0.02, 1248.4914337953157),\n",
       " (0.03, 1262.197631000803),\n",
       " (0.4, 1156.6348335192572),\n",
       " (1, 1968.013351681249)]"
      ]
     },
     "execution_count": 78,
     "metadata": {},
     "output_type": "execute_result"
    }
   ],
   "source": [
    "learning_rate_init_values = [0.02, 0.03, 0.4, 1]\n",
    "results = []\n",
    "losses = []\n",
    "\n",
    "for learning_rate_init in learning_rate_init_values:\n",
    "    mlp = MLPRegressor(max_iter=10000, learning_rate='constant', learning_rate_init=learning_rate_init, random_state=42)\n",
    "    mlp.fit(x_train,y_train)\n",
    "    y_pred = mlp.predict(x_test)\n",
    "    mse = mean_squared_error(y_test,y_pred)\n",
    "    results.append((learning_rate_init, mse))\n",
    "    \n",
    "    losses.append(mlp.loss_)\n",
    "    \n",
    "plt.semilogx(learning_rate_init_values, losses, marker='o')\n",
    "plt.title(\" Gain vs. Loss\")\n",
    "plt.xlabel(\"Gain\")\n",
    "plt.ylabel(\"Loss\")\n",
    "plt.grid(True)\n",
    "plt.show()\n",
    "\n",
    "results"
   ]
  },
  {
   "cell_type": "code",
   "execution_count": 84,
   "id": "6dc2fb74",
   "metadata": {},
   "outputs": [],
   "source": [
    "from sklearn.pipeline import Pipeline\n",
    "import numpy as np\n",
    "from sklearn.model_selection import cross_val_score\n",
    "\n",
    "def calculate_kfold_model_scaled_results(classifier,n_splits,x,y):\n",
    "    scaler = StandardScaler()\n",
    "    pipeline = Pipeline([('transformer', scaler),('estimator',classifier)])\n",
    "    \n",
    "    cv_scores = cross_val_score( pipeline,x, y=y, scoring='r2',cv=n_splits)     \n",
    "        \n",
    "    return cv_scores"
   ]
  },
  {
   "cell_type": "code",
   "execution_count": 93,
   "id": "f3ae291a",
   "metadata": {},
   "outputs": [
    {
     "name": "stdout",
     "output_type": "stream",
     "text": [
      "0.8348893601349265\n"
     ]
    },
    {
     "data": {
      "image/png": "[encoded data removed]",
      "text/plain": [
       "<Figure size 640x480 with 1 Axes>"
      ]
     },
     "metadata": {},
     "output_type": "display_data"
    }
   ],
   "source": [
    "r2 = calculate_kfold_model_scaled_results(MLPRegressor(max_iter=10000, learning_rate='constant', learning_rate_init=0.4,random_state=42),5,x,y)\n",
    "\n",
    "plt.scatter(range(1,6), r2, color=\"red\")\n",
    "plt.xlabel(' length')\n",
    "plt.ylabel('R2 Score')\n",
    "print(np.mean(r2))"
   ]
  },
  {
   "cell_type": "code",
   "execution_count": null,
   "id": "c76d9a1d",
   "metadata": {},
   "outputs": [],
   "source": [
    "#In this case I go with MPLRegressor because the output was different we only choose classifier if the output is predictable as same as classifier gives continuous output on the other hand regression will not generate like this.\n",
    "#Firstly, we set the range of x and y axis then we test as same as train the values then we create two helper functions, both of which will need to predict class labels.\n",
    "#factor the code into one function rather than duplicating itthen the function will display selected scores(f1-score macro average, accuracy)\n",
    "#Then implementMLPRegresson and learning rate to get r2 and mse resuts then set a range value to tain and test the data we will get a good learning rate grap but in multiclassifier the output will show the low accuracy rate and the size of the array will show incorect\n",
    "#using pipeline to calculate kmodels then split the x and y axis then plot the grap with that valuesMultilayer perceptrons are generally composed of an input layer, an output layer and 0 or more hidden layers. The size of the hidden layers is specified via the hidden_layer_sizes parameter in MLClassifier\n",
    "#where the the ith element represents the number of neurons in the ith hidden layer.\n"
   ]
  },
  {
   "cell_type": "code",
   "execution_count": null,
   "id": "0f100fba",
   "metadata": {},
   "outputs": [],
   "source": []
  }
 ],
 "metadata": {
  "kernelspec": {
   "display_name": "Python 3 (ipykernel)",
   "language": "python",
   "name": "python3"
  },
  "language_info": {
   "codemirror_mode": {
    "name": "ipython",
    "version": 3
   },
   "file_extension": ".py",
   "mimetype": "text/x-python",
   "name": "python",
   "nbconvert_exporter": "python",
   "pygments_lexer": "ipython3",
   "version": "3.11.5"
  }
 },
 "nbformat": 4,
 "nbformat_minor": 5
}
